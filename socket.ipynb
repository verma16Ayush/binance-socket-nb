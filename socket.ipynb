{
 "cells": [
  {
   "cell_type": "code",
   "execution_count": 7,
   "metadata": {},
   "outputs": [],
   "source": [
    "import websocket\n",
    "import json\n",
    "from time import sleep"
   ]
  },
  {
   "cell_type": "code",
   "execution_count": 8,
   "metadata": {},
   "outputs": [
    {
     "name": "stdout",
     "output_type": "stream",
     "text": [
      "connection estd\n"
     ]
    }
   ],
   "source": [
    "binance_socket = websocket.WebSocket()\n",
    "binance_socket.connect('wss://stream.binance.com:9443/ws/ethusdt@kline_1m')\n",
    "print(\"connection estd\")"
   ]
  },
  {
   "cell_type": "code",
   "execution_count": 9,
   "metadata": {},
   "outputs": [
    {
     "name": "stdout",
     "output_type": "stream",
     "text": [
      "symbol:  ETHUSDT\n",
      "price high/low: 2220.89000000/2218.57000000\n",
      "no. of trades since last call:  296\n",
      "symbol:  ETHUSDT\n",
      "price high/low: 2221.37000000/2218.57000000\n",
      "no. of trades since last call:  351\n",
      "symbol:  ETHUSDT\n",
      "price high/low: 2221.37000000/2218.57000000\n",
      "no. of trades since last call:  351\n",
      "symbol:  ETHUSDT\n",
      "price high/low: 2222.00000000/2221.35000000\n",
      "no. of trades since last call:  26\n",
      "symbol:  ETHUSDT\n",
      "price high/low: 2222.76000000/2221.35000000\n",
      "no. of trades since last call:  54\n",
      "symbol:  ETHUSDT\n",
      "price high/low: 2223.00000000/2221.35000000\n",
      "no. of trades since last call:  74\n",
      "symbol:  ETHUSDT\n",
      "price high/low: 2223.00000000/2221.35000000\n",
      "no. of trades since last call:  94\n",
      "symbol:  ETHUSDT\n",
      "price high/low: 2223.00000000/2221.35000000\n",
      "no. of trades since last call:  102\n",
      "symbol:  ETHUSDT\n",
      "price high/low: 2223.00000000/2221.35000000\n",
      "no. of trades since last call:  105\n",
      "symbol:  ETHUSDT\n",
      "price high/low: 2223.00000000/2221.35000000\n",
      "no. of trades since last call:  112\n",
      "symbol:  ETHUSDT\n",
      "price high/low: 2223.00000000/2221.35000000\n",
      "no. of trades since last call:  116\n",
      "symbol:  ETHUSDT\n",
      "price high/low: 2223.00000000/2221.35000000\n",
      "no. of trades since last call:  127\n",
      "symbol:  ETHUSDT\n",
      "price high/low: 2223.00000000/2220.56000000\n",
      "no. of trades since last call:  174\n"
     ]
    },
    {
     "ename": "KeyboardInterrupt",
     "evalue": "",
     "output_type": "error",
     "traceback": [
      "\u001b[0;31m---------------------------------------------------------------------------\u001b[0m",
      "\u001b[0;31mKeyboardInterrupt\u001b[0m                         Traceback (most recent call last)",
      "\u001b[0;32m/tmp/ipykernel_46343/884127259.py\u001b[0m in \u001b[0;36m<module>\u001b[0;34m\u001b[0m\n\u001b[1;32m      1\u001b[0m \u001b[0;32mwhile\u001b[0m\u001b[0;34m(\u001b[0m\u001b[0mbinance_socket\u001b[0m\u001b[0;34m.\u001b[0m\u001b[0mconnected\u001b[0m\u001b[0;34m)\u001b[0m\u001b[0;34m:\u001b[0m\u001b[0;34m\u001b[0m\u001b[0;34m\u001b[0m\u001b[0m\n\u001b[0;32m----> 2\u001b[0;31m     \u001b[0msleep\u001b[0m\u001b[0;34m(\u001b[0m\u001b[0;36m3\u001b[0m\u001b[0;34m)\u001b[0m\u001b[0;34m\u001b[0m\u001b[0;34m\u001b[0m\u001b[0m\n\u001b[0m\u001b[1;32m      3\u001b[0m     \u001b[0mdata\u001b[0m \u001b[0;34m=\u001b[0m \u001b[0mjson\u001b[0m\u001b[0;34m.\u001b[0m\u001b[0mloads\u001b[0m\u001b[0;34m(\u001b[0m\u001b[0mbinance_socket\u001b[0m\u001b[0;34m.\u001b[0m\u001b[0mrecv\u001b[0m\u001b[0;34m(\u001b[0m\u001b[0;34m)\u001b[0m\u001b[0;34m)\u001b[0m\u001b[0;34m\u001b[0m\u001b[0;34m\u001b[0m\u001b[0m\n\u001b[1;32m      4\u001b[0m     \u001b[0mprint\u001b[0m\u001b[0;34m(\u001b[0m\u001b[0;34m\"symbol: \"\u001b[0m\u001b[0;34m,\u001b[0m \u001b[0mdata\u001b[0m\u001b[0;34m[\u001b[0m\u001b[0;34m's'\u001b[0m\u001b[0;34m]\u001b[0m\u001b[0;34m)\u001b[0m\u001b[0;34m\u001b[0m\u001b[0;34m\u001b[0m\u001b[0m\n\u001b[1;32m      5\u001b[0m     \u001b[0mprint\u001b[0m\u001b[0;34m(\u001b[0m\u001b[0;34m\"price high/low: {}/{}\"\u001b[0m\u001b[0;34m.\u001b[0m\u001b[0mformat\u001b[0m\u001b[0;34m(\u001b[0m\u001b[0mdata\u001b[0m\u001b[0;34m[\u001b[0m\u001b[0;34m'k'\u001b[0m\u001b[0;34m]\u001b[0m\u001b[0;34m[\u001b[0m\u001b[0;34m'h'\u001b[0m\u001b[0;34m]\u001b[0m\u001b[0;34m,\u001b[0m \u001b[0mdata\u001b[0m\u001b[0;34m[\u001b[0m\u001b[0;34m'k'\u001b[0m\u001b[0;34m]\u001b[0m\u001b[0;34m[\u001b[0m\u001b[0;34m'l'\u001b[0m\u001b[0;34m]\u001b[0m\u001b[0;34m)\u001b[0m\u001b[0;34m)\u001b[0m\u001b[0;34m\u001b[0m\u001b[0;34m\u001b[0m\u001b[0m\n",
      "\u001b[0;31mKeyboardInterrupt\u001b[0m: "
     ]
    }
   ],
   "source": [
    "while(binance_socket.connected):\n",
    "    sleep(3)\n",
    "    data = json.loads(binance_socket.recv())\n",
    "    print(\"symbol: \", data['s'])\n",
    "    print(\"price high/low: {}/{}\".format(data['k']['h'], data['k']['l']))\n",
    "    print(\"no. of trades since last call: \", data['k']['n'])"
   ]
  }
 ],
 "metadata": {
  "interpreter": {
   "hash": "b38005e1ba2777516c193df2097d333949adec46b2dc0e3271a8d1873e0f03ee"
  },
  "kernelspec": {
   "display_name": "Python 3.8.10 64-bit ('.venv': venv)",
   "name": "python3"
  },
  "language_info": {
   "codemirror_mode": {
    "name": "ipython",
    "version": 3
   },
   "file_extension": ".py",
   "mimetype": "text/x-python",
   "name": "python",
   "nbconvert_exporter": "python",
   "pygments_lexer": "ipython3",
   "version": "3.8.10"
  },
  "orig_nbformat": 4
 },
 "nbformat": 4,
 "nbformat_minor": 2
}